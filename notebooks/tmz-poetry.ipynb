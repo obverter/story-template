{
 "cells": [
  {
   "cell_type": "code",
   "execution_count": 774,
   "metadata": {},
   "outputs": [],
   "source": [
    "import pandas as pd\n",
    "from tqdm import tqdm\n",
    "from bs4 import BeautifulSoup"
   ]
  },
  {
   "cell_type": "code",
   "execution_count": 775,
   "metadata": {},
   "outputs": [],
   "source": [
    "url = 'https://www.tmz.com'\n",
    "req = requests.get(url)\n",
    "doc = BeautifulSoup(req.text)"
   ]
  },
  {
   "cell_type": "code",
   "execution_count": 776,
   "metadata": {},
   "outputs": [],
   "source": [
    "stories = []\n",
    "for trash in doc.select(f'header > a > h2'):\n",
    "        raw = trash.text\n",
    "        story = {}\n",
    "        story = raw.strip().replace(\"\\n\", \" \")\n",
    "        stories.append(story)"
   ]
  },
  {
   "cell_type": "code",
   "execution_count": 777,
   "metadata": {},
   "outputs": [
    {
     "data": {
      "text/plain": [
       "['BTS Fans Can Live Like K-Pop Superstars In Same House BTS Filmed Reality Show',\n",
       " 'HANK WILLIAMS JR. WIFE DIED FROM COLLAPSED LUNG Following Cosmetic Surgery',\n",
       " \"Shareef O'Neal Shaq's Son Signs 6-Figure Contract ... With G League Ignite\",\n",
       " \"Britney Spears Records New 'Tiny Dancer' Rendition With Elton John Himself!!!\",\n",
       " 'Johnny Manziel Ex Bre Tiesi Gives Birth To Baby Son ... With Nick Cannon',\n",
       " \"'Goodfellas' Star Paul Sorvino Dead at 83\",\n",
       " \"Raising Cane's Owner Buys 50k Lotto Tix ... One For Each Employee!!!\",\n",
       " \"Packers' AJ Dillon Cop Shoves Star RB At Lambeau Field Police Launch Internal Review\",\n",
       " 'Lynne Spears I Love You, Britney!!!',\n",
       " 'Texas Anti-Abortion Law TX Legislators Threaten Major Law Firm ... Lawyers Who Facilitate Abortions will be Prosecuted, Disbarred',\n",
       " \"Kylie Jenner Leaves Pregnant Emojis On Travis Scott's Post ... Baby #3???\",\n",
       " \"Jamie Lynn Spears Didn't Meet with Pops During COVID ... Despite Britney's Claim\",\n",
       " 'Ben Affleck Breaks Down Crying on Honeymoon ... J Lo Consoles Him at Dinner',\n",
       " \"Elon Musk Denies Reported Affair ... I Haven't Had Sex in Forever!!!\",\n",
       " \"Lil Wayne 'Farewell Uncle Bob' ... Life-Saving Officer Dies In New Orleans\",\n",
       " 'Chucky Kid Dresses as Killer Doll Freaks Out Whole AL Neighborhood!!!']"
      ]
     },
     "execution_count": 777,
     "metadata": {},
     "output_type": "execute_result"
    }
   ],
   "source": [
    "stories"
   ]
  },
  {
   "cell_type": "code",
   "execution_count": 778,
   "metadata": {},
   "outputs": [
    {
     "name": "stdout",
     "output_type": "stream",
     "text": [
      "- - -\n",
      "BTS FANS CAN LIVE LIKE K-POP SUPERSTARS IN SAME HOUSE BTS FILMED REALITY SHOW\n",
      "7/25/2022 4:00 PM\n",
      "                                                          DYNAMITE DIGS  Mind&Details      BTS fans finally have their chance to live just like their favorite boy band ... the house the K-Pop superstars once called home is now available for a once-in-a-lifetime overnight stay.   Airbnb is giving two lucky fans the chance to rest their heads in the same house the group lived in while filming season 2 of \"IN THE SOOP BTS\" in PyeongChang, South Korea.        Gallery   Launch Gallery   Inside The BTS Estate                Launch Gallery                 Gallery      Time of Blue     The homes got plenty of features to make sure none of BTS' seven members ever got bored, and guests will be able to enjoy them as well ... including an outdoor pool with a unicorn-shaped float, a basketball court, a karaoke machine, and sound system and all of BTS hit tracks and albums.            Time of Blue       Guests won't go hungry either ... with catered dishes that have been BTS approved -- including charcoal grilled Korean beef, which the boy band dubbed, \"the best taste in the universe.\"        Airbnb will offer the one-night stay in a raffle next month with entries at $7 a pop -- in honor of the 7 members of the band.        Gallery   Launch Gallery   BTS Performance Pics                Launch Gallery                 Gallery      Getty     Entries open up for booking on August 1st.                             Share on Facebook                          TWEET This                           Related Articles                                                          BTS Not Really Going On Hiatus, Confusion with Translation, Says Management                                                                      BTS Makes Appearance at White House Press Briefing to Talk Anti-Asian Hate                                                         BTS                                         Reality TV                                         Exclusive                                         Music\n"
     ]
    }
   ],
   "source": [
    "stories = pd.DataFrame(columns=['headline', 'timestamp', 'text'])\n",
    "test = doc.select(\".article\")\n",
    "paragraphs = []\n",
    "count = 0\n",
    "for p in test:\n",
    "    para = test[count].text\n",
    "    para = para.strip().replace(\"\\n\", \" \")\n",
    "    paragraphs.append(para)\n",
    "    count += 1\n",
    "headline = paragraphs[0].split(\"PT\")\n",
    "text = headline[1]\n",
    "timestamp = headline[0][-20:]\n",
    "timestamp = timestamp.strip()\n",
    "headline = headline[0][:-20]\n",
    "headline = headline.split(\"  \")\n",
    "headline = headline[0].upper()\n",
    "story = {\n",
    "    \"headline\": headline,\n",
    "    \"timestamp\": timestamp,\n",
    "    \"text\": text\n",
    "}\n",
    "\n",
    "text = text.replace(\"Play video content\", \"\")\n",
    "print(\"- - -\")\n",
    "print(headline)\n",
    "print(timestamp)\n",
    "print(text)\n",
    "\n",
    "# print(headline)\n",
    "# print(timestamp)\n",
    "# print(test)"
   ]
  },
  {
   "cell_type": "code",
   "execution_count": 763,
   "metadata": {},
   "outputs": [
    {
     "data": {
      "text/plain": [
       "str"
      ]
     },
     "execution_count": 763,
     "metadata": {},
     "output_type": "execute_result"
    }
   ],
   "source": [
    "type(text)"
   ]
  },
  {
   "cell_type": "code",
   "execution_count": 758,
   "metadata": {},
   "outputs": [],
   "source": [
    "story['text'] = story['text'].strip()"
   ]
  },
  {
   "cell_type": "code",
   "execution_count": 759,
   "metadata": {},
   "outputs": [],
   "source": [
    "story['text'] = story"
   ]
  },
  {
   "cell_type": "code",
   "execution_count": 760,
   "metadata": {},
   "outputs": [
    {
     "name": "stdout",
     "output_type": "stream",
     "text": [
      "                                            headline          timestamp  \\\n",
      "0  BTS FANS CAN LIVE LIKE K-POP SUPERSTARS IN SAM...  7/25/2022 4:00 PM   \n",
      "\n",
      "                                                text  \n",
      "0  {'headline': 'BTS FANS CAN LIVE LIKE K-POP SUP...  \n"
     ]
    },
    {
     "name": "stderr",
     "output_type": "stream",
     "text": [
      "/var/folders/m9/kw6252cj3lqgftmsg97nw4z80000gn/T/ipykernel_51332/2941798289.py:1: FutureWarning: The frame.append method is deprecated and will be removed from pandas in a future version. Use pandas.concat instead.\n",
      "  stories = stories.append(story, ignore_index=True)\n"
     ]
    }
   ],
   "source": [
    "stories = stories.append(story, ignore_index=True)\n",
    "print(stories.head())"
   ]
  },
  {
   "cell_type": "code",
   "execution_count": 392,
   "metadata": {},
   "outputs": [],
   "source": [
    "import sidetable\n"
   ]
  },
  {
   "cell_type": "code",
   "execution_count": 393,
   "metadata": {},
   "outputs": [],
   "source": [
    "def generalize(ser, match_name, default=None, regex=False, case=False):\n",
    "    \"\"\" Search a series for text matches.\n",
    "    Based on code from https://www.metasnake.com/blog/pydata-assign.html\n",
    "\n",
    "    ser: pandas series to search\n",
    "    match_name: tuple containing text to search for and text to use for normalization\n",
    "    default: If no match, use this to provide a default value, otherwise use the original text\n",
    "    regex: Boolean to indicate if match_name contains a  regular expression\n",
    "    case: Case sensitive search\n",
    "\n",
    "    Returns a pandas series with the matched value\n",
    "\n",
    "    \"\"\"\n",
    "    seen = None\n",
    "    for match, name in match_name:\n",
    "        mask = ser.str.contains(match, case=case, regex=regex)\n",
    "        if seen is None:\n",
    "            seen = mask\n",
    "        else:\n",
    "            seen |= mask\n",
    "        ser = ser.where(~mask, name)\n",
    "    if default:\n",
    "        ser = ser.where(seen, default)\n",
    "    else:\n",
    "        ser = ser.where(seen, ser.values)\n",
    "    return ser"
   ]
  },
  {
   "cell_type": "code",
   "execution_count": null,
   "metadata": {},
   "outputs": [],
   "source": []
  }
 ],
 "metadata": {
  "kernelspec": {
   "display_name": "Python 3.10.3 64-bit ('3.10.3')",
   "language": "python",
   "name": "python3"
  },
  "language_info": {
   "codemirror_mode": {
    "name": "ipython",
    "version": 3
   },
   "file_extension": ".py",
   "mimetype": "text/x-python",
   "name": "python",
   "nbconvert_exporter": "python",
   "pygments_lexer": "ipython3",
   "version": "3.10.3"
  },
  "orig_nbformat": 4,
  "vscode": {
   "interpreter": {
    "hash": "10626171d4353dd8d0f12b0dae77464b904fee8f635bb045a55f368206a04bde"
   }
  }
 },
 "nbformat": 4,
 "nbformat_minor": 2
}
