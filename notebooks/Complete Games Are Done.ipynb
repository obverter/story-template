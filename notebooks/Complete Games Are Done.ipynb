{
 "cells": [
  {
   "cell_type": "markdown",
   "metadata": {},
   "source": [
    "# The Complete Game: Once Normal, Now Novel"
   ]
  },
  {
   "cell_type": "markdown",
   "metadata": {},
   "source": [
    "## What We're Looking For\n",
    "The modern professional baseball player comes from a different planet than did their old-timey, horse-and-buggy forebears. Today's game is faster, higher-scoring, and split-second timed. Most players' skill sets and repertoire are specialized and weaponized so as to befuddle, speed past, and overpower the suckers wearing the other-colored caps.\n",
    "\n",
    "This is undisputed.\n",
    "\n",
    "Also undisputed is that the \"professional\" baseball player of ~150 years ago was not a full-time, this-is-all-I-do professional. For its first few decades, baseball was a seasonal job played before crowds of maybe a few hundred spectators for the biggest games. \n",
    "\n",
    "And owing to the vocation's part-time nature, almost nobody crafted their game with a specialized approach — beyond some penchant, preference, or aptitude for one position or another.\n",
    "\n",
    "Of all the positions on the diamond, the starting pitcher's role has changed the most.\n",
    "\n",
    "Relief pitchers weren't really a structured part of the game in its fledgling years. The starting pitcher was the pitcher, and the pitcher usually pitched the entire game.\n",
    "\n",
    "So what changed?"
   ]
  },
  {
   "cell_type": "markdown",
   "metadata": {},
   "source": [
    "We'll need Pandas, Numpy, and pybaseball."
   ]
  },
  {
   "cell_type": "code",
   "execution_count": 137,
   "metadata": {},
   "outputs": [],
   "source": [
    "import pybaseball as pb\n",
    "import pandas as pd\n",
    "import numpy as np\n",
    "from pandas_profiling import ProfileReport\n",
    "import scipy.stats as stats\n",
    "import matplotlib.pyplot as plt\n",
    "\n",
    "pb.cache.enable()"
   ]
  },
  {
   "cell_type": "code",
   "execution_count": 88,
   "metadata": {},
   "outputs": [],
   "source": [
    "df = pd.read_csv(\"../data/pitching.csv\")"
   ]
  },
  {
   "cell_type": "code",
   "execution_count": 135,
   "metadata": {},
   "outputs": [],
   "source": [
    "cg = pd.DataFrame(df.groupby('yearID').CG.describe())"
   ]
  },
  {
   "cell_type": "code",
   "execution_count": 139,
   "metadata": {},
   "outputs": [],
   "source": [
    "cg.to_csv('cg_describe.csv')"
   ]
  },
  {
   "cell_type": "code",
   "execution_count": 34,
   "metadata": {},
   "outputs": [],
   "source": [
    "# group pitcher data into per-year dicts, throw to list\n",
    "year_groups = df.groupby(['yearID']).apply(\n",
    "    lambda x: [\n",
    "        list(x['teamID']), \n",
    "        list(x['CG']), \n",
    "        list(x['IPouts']), \n",
    "        list(x['BFP']), \n",
    "        list(x['BAOpp']), \n",
    "        list(x['BB']), \n",
    "        list(x['SO']), \n",
    "        list(x['ERA'])\n",
    "        ]\n",
    "    ).apply(pd.Series)\n",
    "year_groups.columns = ['team_ID', 'CG', 'IP_Outs', 'BFP', 'Opp_BA', 'BB', 'SO', 'ERA']\n",
    "year_groups = year_groups.reset_index()"
   ]
  },
  {
   "cell_type": "code",
   "execution_count": 35,
   "metadata": {},
   "outputs": [],
   "source": [
    "year = 1871\n",
    "season_list = []\n",
    "for counter, _ in enumerate(range(1871, 2021)):\n",
    "    season = year_groups['yearID']\n",
    "    season = {}\n",
    "    season['year'] = year_groups['yearID'][counter]\n",
    "\n",
    "    season['CG_max'] = max(year_groups['CG'][counter])\n",
    "    season['CG_min'] = min(year_groups['CG'][counter])\n",
    "    season['CG_mean'] = stats.mean(year_groups['CG'][counter])\n",
    "    season['CG_median'] = stats.median(year_groups['CG'][counter])\n",
    "    season['CG_var'] = stats.variance(year_groups['CG'][counter])\n",
    "\n",
    "    season['IP_outs_max'] = max(year_groups['IP_Outs'][counter])\n",
    "    season['IP_outs_min'] = min(year_groups['IP_Outs'][counter])\n",
    "    season['IP_outs_mean'] = stats.mean(year_groups['IP_Outs'][counter])\n",
    "    season['IP_outs_median'] = stats.median(year_groups['IP_Outs'][counter])\n",
    "    season['IP_outs_var'] = stats.variance(year_groups['IP_Outs'][counter])\n",
    "\n",
    "    season['batters_faced_max'] = max(year_groups['BFP'][counter])\n",
    "    season['batters_faced_min'] = min(year_groups['BFP'][counter])\n",
    "    season['batters_faced_mean'] = stats.mean(year_groups['BFP'][counter])\n",
    "    season['batters_faced_median'] = stats.median(year_groups['BFP'][counter])\n",
    "    # season['batters_faced_var'] = stats.variance(year_groups['BFP'][counter])\n",
    "\n",
    "    season['Opp_BA_max'] = max(year_groups['Opp_BA'][counter])\n",
    "    season['Opp_BA_min'] = min(year_groups['Opp_BA'][counter])\n",
    "    season['Opp_BA_mean'] = stats.mean(year_groups['Opp_BA'][counter])\n",
    "    season['Opp_BA_median'] = stats.median(year_groups['Opp_BA'][counter])\n",
    "    # season['Opp_BA_var'] = stats.variance(year_groups['Opp_BA'][counter])\n",
    "\n",
    "    season['BB_max'] = max(year_groups['BB'][counter])\n",
    "    season['BB_min'] = min(year_groups['BB'][counter])\n",
    "    season['BB_mean'] = stats.mean(year_groups['BB'][counter])\n",
    "    season['BB_median'] = stats.median(year_groups['BB'][counter])\n",
    "    season['BB_var'] = stats.variance(year_groups['BB'][counter])\n",
    "\n",
    "    season['SO_max'] = max(year_groups['SO'][counter])\n",
    "    season['SO_min'] = min(year_groups['SO'][counter])\n",
    "    season['SO_mean'] = stats.mean(year_groups['SO'][counter])\n",
    "    season['SO_median'] = stats.median(year_groups['SO'][counter])\n",
    "    season['SO_var'] = stats.variance(year_groups['SO'][counter])\n",
    "\n",
    "    season['ERA_max'] = max(year_groups['ERA'][counter])\n",
    "    season['ERA_min'] = min(year_groups['ERA'][counter])\n",
    "    season['ERA_mean'] = stats.mean(year_groups['ERA'][counter])\n",
    "    season['ERA_median'] = stats.median(year_groups['ERA'][counter])\n",
    "    # season['ERA_var'] = stats.variance(year_groups['ERA'][counter])\n",
    "    season_list.append(season)\n",
    "    "
   ]
  },
  {
   "cell_type": "code",
   "execution_count": 36,
   "metadata": {},
   "outputs": [],
   "source": [
    "def unique(list):\n",
    "    x = np.array(list)\n",
    "    return (np.unique(x)).tolist()"
   ]
  },
  {
   "cell_type": "code",
   "execution_count": 37,
   "metadata": {},
   "outputs": [],
   "source": [
    "year = 1871\n",
    "counter = 0\n",
    "decade_list = [(year // 10) * 10 for year in range(1871, 2021)]\n",
    "decade_list = unique(decade_list)\n"
   ]
  },
  {
   "cell_type": "code",
   "execution_count": 38,
   "metadata": {},
   "outputs": [
    {
     "data": {
      "text/plain": [
       "16"
      ]
     },
     "execution_count": 38,
     "metadata": {},
     "output_type": "execute_result"
    }
   ],
   "source": [
    "len(decade_list)"
   ]
  },
  {
   "cell_type": "code",
   "execution_count": 39,
   "metadata": {},
   "outputs": [],
   "source": [
    "year = 1871\n",
    "decade_groups = []\n",
    "for counter, year in enumerate(range(1871, 2021)):\n",
    "    decade_flag = (year // 10) * 10\n",
    "\n",
    "    season = year_groups[\"yearID\"]\n",
    "    season = {}\n",
    "    season[\"year\"] = year_groups[\"yearID\"][counter]\n",
    "\n",
    "    season[\"CG_max\"] = max(year_groups[\"CG\"][counter])\n",
    "    season[\"CG_min\"] = min(year_groups[\"CG\"][counter])\n",
    "    season[\"CG_mean\"] = stats.mean(year_groups[\"CG\"][counter])\n",
    "    season[\"CG_median\"] = stats.median(year_groups[\"CG\"][counter])\n",
    "\n",
    "    season[\"IP_outs_max\"] = max(year_groups[\"IP_Outs\"][counter])\n",
    "    season[\"IP_outs_min\"] = min(year_groups[\"IP_Outs\"][counter])\n",
    "    season[\"IP_outs_mean\"] = stats.mean(year_groups[\"IP_Outs\"][counter])\n",
    "    season[\"IP_outs_median\"] = stats.median(year_groups[\"IP_Outs\"][counter])\n",
    "\n",
    "    season[\"batters_faced_max\"] = max(year_groups[\"BFP\"][counter])\n",
    "    season[\"batters_faced_min\"] = min(year_groups[\"BFP\"][counter])\n",
    "    season[\"batters_faced_mean\"] = stats.mean(year_groups[\"BFP\"][counter])\n",
    "    season[\"batters_faced_median\"] = stats.median(year_groups[\"BFP\"][counter])\n",
    "    # season['batters_faced_var'] = stats.variance(year_groups['BFP'][counter])\n",
    "\n",
    "    season[\"Opp_BA_mean\"] = stats.mean(year_groups[\"Opp_BA\"][counter])\n",
    "    season[\"Opp_BA_median\"] = stats.median(year_groups[\"Opp_BA\"][counter])\n",
    "    # season['Opp_BA_var'] = stats.variance(year_groups['Opp_BA'][counter])\n",
    "\n",
    "    season[\"BB_max\"] = max(year_groups[\"BB\"][counter])\n",
    "    season[\"BB_mean\"] = stats.mean(year_groups[\"BB\"][counter])\n",
    "    season[\"BB_median\"] = stats.median(year_groups[\"BB\"][counter])\n",
    "\n",
    "    season[\"SO_max\"] = max(year_groups[\"SO\"][counter])\n",
    "    season[\"SO_min\"] = min(year_groups[\"SO\"][counter])\n",
    "    season[\"SO_mean\"] = stats.mean(year_groups[\"SO\"][counter])\n",
    "    season[\"SO_median\"] = stats.median(year_groups[\"SO\"][counter])\n",
    "\n",
    "    season[\"ERA_mean\"] = stats.mean(year_groups[\"ERA\"][counter])\n",
    "    season[\"ERA_median\"] = stats.median(year_groups[\"ERA\"][counter])\n",
    "    # season['ERA_var'] = stats.variance(year_groups['ERA'][counter])\n",
    "    season_list.append(season)"
   ]
  },
  {
   "cell_type": "code",
   "execution_count": 40,
   "metadata": {},
   "outputs": [],
   "source": [
    "df = pd.DataFrame(season_list)\n",
    "df.to_csv('by_season.csv')"
   ]
  },
  {
   "cell_type": "code",
   "execution_count": 41,
   "metadata": {},
   "outputs": [],
   "source": [
    "df_decades = df\n",
    "df_decades = df_decades.groupby((df_decades.year//10)*10).mean()\n"
   ]
  },
  {
   "cell_type": "code",
   "execution_count": 42,
   "metadata": {},
   "outputs": [],
   "source": [
    "df_decades.to_csv('by_decade.csv')"
   ]
  },
  {
   "cell_type": "code",
   "execution_count": 44,
   "metadata": {},
   "outputs": [
    {
     "data": {
      "text/plain": [
       "Index(['year', 'CG_max', 'CG_min', 'CG_mean', 'CG_median', 'CG_var',\n",
       "       'IP_outs_max', 'IP_outs_min', 'IP_outs_mean', 'IP_outs_median',\n",
       "       'IP_outs_var', 'batters_faced_max', 'batters_faced_min',\n",
       "       'batters_faced_mean', 'batters_faced_median', 'Opp_BA_max',\n",
       "       'Opp_BA_min', 'Opp_BA_mean', 'Opp_BA_median', 'BB_max', 'BB_min',\n",
       "       'BB_mean', 'BB_median', 'BB_var', 'SO_max', 'SO_min', 'SO_mean',\n",
       "       'SO_median', 'SO_var', 'ERA_max', 'ERA_min', 'ERA_mean', 'ERA_median'],\n",
       "      dtype='object')"
      ]
     },
     "execution_count": 44,
     "metadata": {},
     "output_type": "execute_result"
    }
   ],
   "source": [
    "df.columns"
   ]
  },
  {
   "cell_type": "code",
   "execution_count": 57,
   "metadata": {},
   "outputs": [
    {
     "data": {
      "text/plain": [
       "<AxesSubplot:xlabel='year', ylabel='CG_mean'>"
      ]
     },
     "execution_count": 57,
     "metadata": {},
     "output_type": "execute_result"
    },
    {
     "data": {
      "image/png": "[encoded data removed]",
      "text/plain": [
       "<Figure size 432x288 with 1 Axes>"
      ]
     },
     "metadata": {
      "needs_background": "light"
     },
     "output_type": "display_data"
    }
   ],
   "source": [
    "df.plot.scatter(y='CG_mean', x='year')"
   ]
  },
  {
   "cell_type": "code",
   "execution_count": 66,
   "metadata": {},
   "outputs": [],
   "source": [
    "zscores = stats.zscore(df.CG_mean).to_list()"
   ]
  },
  {
   "cell_type": "code",
   "execution_count": 70,
   "metadata": {},
   "outputs": [
    {
     "data": {
      "text/plain": [
       "<matplotlib.collections.PathCollection at 0x2a4f03070>"
      ]
     },
     "execution_count": 70,
     "metadata": {},
     "output_type": "execute_result"
    },
    {
     "data": {
      "image/png": "[encoded data removed]",
      "text/plain": [
       "<Figure size 432x288 with 1 Axes>"
      ]
     },
     "metadata": {
      "needs_background": "light"
     },
     "output_type": "display_data"
    }
   ],
   "source": [
    "plot.scatter(x=df.year, y=zscores)"
   ]
  },
  {
   "cell_type": "code",
   "execution_count": 74,
   "metadata": {},
   "outputs": [
    {
     "data": {
      "text/plain": [
       "count    300.000000\n",
       "mean       2.386667\n",
       "std        3.316699\n",
       "min        0.000000\n",
       "25%        0.000000\n",
       "50%        1.000000\n",
       "75%        4.000000\n",
       "max       17.000000\n",
       "Name: CG_median, dtype: float64"
      ]
     },
     "execution_count": 74,
     "metadata": {},
     "output_type": "execute_result"
    }
   ],
   "source": [
    "df.CG_median.describe()"
   ]
  },
  {
   "cell_type": "code",
   "execution_count": 78,
   "metadata": {},
   "outputs": [
    {
     "data": {
      "text/plain": [
       "year                      int64\n",
       "CG_max                    int64\n",
       "CG_min                    int64\n",
       "CG_mean                 float64\n",
       "CG_median               float64\n",
       "CG_var                  float64\n",
       "IP_outs_max               int64\n",
       "IP_outs_min               int64\n",
       "IP_outs_mean            float64\n",
       "IP_outs_median          float64\n",
       "IP_outs_var             float64\n",
       "batters_faced_max       float64\n",
       "batters_faced_min       float64\n",
       "batters_faced_mean      float64\n",
       "batters_faced_median    float64\n",
       "Opp_BA_max              float64\n",
       "Opp_BA_min              float64\n",
       "Opp_BA_mean             float64\n",
       "Opp_BA_median           float64\n",
       "BB_max                    int64\n",
       "BB_min                  float64\n",
       "BB_mean                 float64\n",
       "BB_median               float64\n",
       "BB_var                  float64\n",
       "SO_max                    int64\n",
       "SO_min                    int64\n",
       "SO_mean                 float64\n",
       "SO_median               float64\n",
       "SO_var                  float64\n",
       "ERA_max                 float64\n",
       "ERA_min                 float64\n",
       "ERA_mean                float64\n",
       "ERA_median              float64\n",
       "dtype: object"
      ]
     },
     "execution_count": 78,
     "metadata": {},
     "output_type": "execute_result"
    }
   ],
   "source": []
  }
 ],
 "metadata": {
  "kernelspec": {
   "display_name": "Python 3.10.3 64-bit ('3.10.3')",
   "language": "python",
   "name": "python3"
  },
  "language_info": {
   "codemirror_mode": {
    "name": "ipython",
    "version": 3
   },
   "file_extension": ".py",
   "mimetype": "text/x-python",
   "name": "python",
   "nbconvert_exporter": "python",
   "pygments_lexer": "ipython3",
   "version": "3.10.3"
  },
  "orig_nbformat": 4,
  "vscode": {
   "interpreter": {
    "hash": "10626171d4353dd8d0f12b0dae77464b904fee8f635bb045a55f368206a04bde"
   }
  }
 },
 "nbformat": 4,
 "nbformat_minor": 2
}
